{
 "cells": [
  {
   "cell_type": "markdown",
   "id": "6b798143-e8fd-45cf-b193-c82614baa4c9",
   "metadata": {},
   "source": [
    "TOPIC: Python Basics Variable"
   ]
  },
  {
   "cell_type": "markdown",
   "id": "e1709a6e-8550-4f0d-a080-95cc9effc6a1",
   "metadata": {},
   "source": [
    "Q 1)"
   ]
  },
  {
   "cell_type": "code",
   "execution_count": 1,
   "id": "0380bc6d-b0dc-43c7-b5cd-38c7759ef271",
   "metadata": {},
   "outputs": [],
   "source": [
    "x , y = 22 , 45  # Declaration and Assign the value  of two variables x and y"
   ]
  },
  {
   "cell_type": "code",
   "execution_count": 2,
   "id": "351bc510-4abc-467a-a504-504e713c6794",
   "metadata": {},
   "outputs": [
    {
     "data": {
      "text/plain": [
       "22"
      ]
     },
     "execution_count": 2,
     "metadata": {},
     "output_type": "execute_result"
    }
   ],
   "source": [
    "x"
   ]
  },
  {
   "cell_type": "code",
   "execution_count": 3,
   "id": "277c463d-ec12-41c2-896a-eeb0c8c93d8a",
   "metadata": {},
   "outputs": [
    {
     "data": {
      "text/plain": [
       "45"
      ]
     },
     "execution_count": 3,
     "metadata": {},
     "output_type": "execute_result"
    }
   ],
   "source": [
    "y"
   ]
  },
  {
   "cell_type": "code",
   "execution_count": 4,
   "id": "4c496186-9081-41f6-86c9-13d4e49811f8",
   "metadata": {},
   "outputs": [],
   "source": [
    "x , y = y , x   # Here we swaped the values of x and y"
   ]
  },
  {
   "cell_type": "code",
   "execution_count": 5,
   "id": "e2c87d72-1477-456b-8fe1-5ff9f201e4b5",
   "metadata": {},
   "outputs": [
    {
     "data": {
      "text/plain": [
       "45"
      ]
     },
     "execution_count": 5,
     "metadata": {},
     "output_type": "execute_result"
    }
   ],
   "source": [
    "x"
   ]
  },
  {
   "cell_type": "code",
   "execution_count": 6,
   "id": "72c90d45-6d99-4f4e-b684-995f0f79f7e1",
   "metadata": {},
   "outputs": [
    {
     "data": {
      "text/plain": [
       "22"
      ]
     },
     "execution_count": 6,
     "metadata": {},
     "output_type": "execute_result"
    }
   ],
   "source": [
    "y"
   ]
  },
  {
   "cell_type": "markdown",
   "id": "409eae73-d1db-4496-b6c3-583750e2ce2d",
   "metadata": {},
   "source": [
    " Q 2)"
   ]
  },
  {
   "cell_type": "code",
   "execution_count": 7,
   "id": "b5f52be0-d395-4e09-96c2-6af964b8101c",
   "metadata": {},
   "outputs": [
    {
     "name": "stdin",
     "output_type": "stream",
     "text": [
      " 6\n"
     ]
    }
   ],
   "source": [
    "length = int(input())  # Taking the integer as input from users and stored in the varible called length"
   ]
  },
  {
   "cell_type": "code",
   "execution_count": 8,
   "id": "ca6eb126-d794-4ac7-8539-1b84c4900cb1",
   "metadata": {},
   "outputs": [
    {
     "name": "stdin",
     "output_type": "stream",
     "text": [
      " 3\n"
     ]
    }
   ],
   "source": [
    "width = int(input())  # Taking the integer as input from users and stored in the varible called width"
   ]
  },
  {
   "cell_type": "code",
   "execution_count": 9,
   "id": "599a4d53-7836-4898-bad6-52b960ea05f8",
   "metadata": {},
   "outputs": [],
   "source": [
    "area = length * width # Formula to calculate the area of a rectangle"
   ]
  },
  {
   "cell_type": "code",
   "execution_count": 10,
   "id": "66c5973d-a03d-4ab9-8943-0c66a2573672",
   "metadata": {},
   "outputs": [
    {
     "name": "stdout",
     "output_type": "stream",
     "text": [
      "18\n"
     ]
    }
   ],
   "source": [
    "print(area)    # Display the area "
   ]
  },
  {
   "cell_type": "markdown",
   "id": "10ed5dd0-fe14-435b-b239-b2ca6c2e86f6",
   "metadata": {},
   "source": [
    "  Q 3)"
   ]
  },
  {
   "cell_type": "code",
   "execution_count": 11,
   "id": "fe684a40-1d81-4182-8be6-dbf37ab0735b",
   "metadata": {},
   "outputs": [
    {
     "name": "stdin",
     "output_type": "stream",
     "text": [
      " 35\n"
     ]
    }
   ],
   "source": [
    "Celsius = float(input())  # Taking the float as input from users and stored in the varible called Celsius"
   ]
  },
  {
   "cell_type": "code",
   "execution_count": 12,
   "id": "6cc5b49e-2fe2-4c30-bb96-8adf472c9659",
   "metadata": {},
   "outputs": [],
   "source": [
    "Fahrenheit = (9/5 * Celsius) + 32 # Formula to convert Celsius to Fahrenheit"
   ]
  },
  {
   "cell_type": "code",
   "execution_count": 13,
   "id": "42f7c97e-ebb8-411c-bc02-e06a3399ebec",
   "metadata": {},
   "outputs": [
    {
     "name": "stdout",
     "output_type": "stream",
     "text": [
      "95.0\n"
     ]
    }
   ],
   "source": [
    "print(Fahrenheit)   # Display the Fahrenheit temperature"
   ]
  },
  {
   "cell_type": "raw",
   "id": "95d9d9e9-c8fc-47d6-8507-a59e8070eab6",
   "metadata": {},
   "source": [
    "______________________________________________________________________________ END _______________________________________________________________________________________________________"
   ]
  },
  {
   "cell_type": "markdown",
   "id": "8b835c8c-95f3-4634-b86f-3552c0c150a3",
   "metadata": {},
   "source": [
    "TOPIC: String Based Questions"
   ]
  },
  {
   "cell_type": "markdown",
   "id": "5a62d18f-1129-492e-b7a0-22b38bc0ec3a",
   "metadata": {},
   "source": [
    "Q 1)"
   ]
  },
  {
   "cell_type": "code",
   "execution_count": 14,
   "id": "ea455c55-7178-4165-a4fe-0ccf5e05c131",
   "metadata": {},
   "outputs": [
    {
     "name": "stdin",
     "output_type": "stream",
     "text": [
      " PW SKILLS\n"
     ]
    }
   ],
   "source": [
    "string = str(input()) # Taking the string as input from users and stored in the varible string"
   ]
  },
  {
   "cell_type": "code",
   "execution_count": 15,
   "id": "cdf12dcd-9a65-4307-9c9e-579b07b346f2",
   "metadata": {},
   "outputs": [],
   "source": [
    "length = len(string)  # using inbuilt function called len(string)"
   ]
  },
  {
   "cell_type": "code",
   "execution_count": 16,
   "id": "36c983d4-6539-4126-aad0-35573d6f2abc",
   "metadata": {},
   "outputs": [
    {
     "name": "stdout",
     "output_type": "stream",
     "text": [
      "9\n"
     ]
    }
   ],
   "source": [
    "print(length)    # Display the length of the String"
   ]
  },
  {
   "cell_type": "markdown",
   "id": "0b467af3-896c-4d20-bf11-dd08a01d9ec4",
   "metadata": {},
   "source": [
    "Q 2)"
   ]
  },
  {
   "cell_type": "code",
   "execution_count": 17,
   "id": "ba44a3e0-9dc5-4a33-a421-d80fe1058443",
   "metadata": {},
   "outputs": [
    {
     "name": "stdin",
     "output_type": "stream",
     "text": [
      "  My name is THILAK B R and I am studing in IIT DHARWAD in 2 nd year\n"
     ]
    }
   ],
   "source": [
    "sentence = str(input()) # Taking the string as input from users and stored in the varible called sentence"
   ]
  },
  {
   "cell_type": "code",
   "execution_count": 18,
   "id": "d2775122-05cc-460c-bd15-52c281fcc729",
   "metadata": {},
   "outputs": [],
   "source": [
    "count = 0   #  Declaration of the varible called count and initilized to zero (0)\n",
    "\n",
    "for char in (sentence):  # for loop\n",
    "    \n",
    "    if char in ([\"a\",\"e\",\"i\",\"o\",\"u\",\"A\",\"E\",\"I\",\"O\",\"U\"]): # if condition to count the number of vowels in the given string.\n",
    "        \n",
    "        count = count +1   # it returns the count value"
   ]
  },
  {
   "cell_type": "code",
   "execution_count": 19,
   "id": "e350e015-033e-4fc2-8ee9-0a010ef43a30",
   "metadata": {},
   "outputs": [
    {
     "name": "stdout",
     "output_type": "stream",
     "text": [
      "18\n"
     ]
    }
   ],
   "source": [
    "print(count)     # Display the number of vowels in the string."
   ]
  },
  {
   "cell_type": "markdown",
   "id": "69a77c93-4cbe-4efd-aa00-d5f6c4c12c4d",
   "metadata": {},
   "source": [
    "Q 3)"
   ]
  },
  {
   "cell_type": "code",
   "execution_count": 20,
   "id": "d4f358ff-109d-42f5-bb0c-331b14fc3fc6",
   "metadata": {},
   "outputs": [],
   "source": [
    "string_1 = \" PW SKILLS \"  "
   ]
  },
  {
   "cell_type": "code",
   "execution_count": 21,
   "id": "e12a7789-fa19-4135-945f-1298d28a32f2",
   "metadata": {},
   "outputs": [
    {
     "name": "stdout",
     "output_type": "stream",
     "text": [
      " SLLIKS WP \n"
     ]
    }
   ],
   "source": [
    "print(string_1[::-1])  # Order of characters is reversed using string slicing and printed"
   ]
  },
  {
   "cell_type": "markdown",
   "id": "38988d1e-fdbe-4870-86dd-b0aa5579645e",
   "metadata": {},
   "source": [
    "Q 4)"
   ]
  },
  {
   "cell_type": "code",
   "execution_count": 22,
   "id": "51879de3-71a7-4798-818a-20e4a572924d",
   "metadata": {},
   "outputs": [
    {
     "name": "stdin",
     "output_type": "stream",
     "text": [
      " MADAM\n"
     ]
    }
   ],
   "source": [
    "string_2 = str(input())  # Taking the string as input from users and stored in the varible string_2"
   ]
  },
  {
   "cell_type": "code",
   "execution_count": 23,
   "id": "9ccf3d1e-baae-469f-8542-5d23fee71101",
   "metadata": {},
   "outputs": [],
   "source": [
    "string_3 = string_2[::-1]  # Order of characters is reversed using string slicing and stored this reversed string the varible called string_3"
   ]
  },
  {
   "cell_type": "code",
   "execution_count": 24,
   "id": "7cc8abbf-81ac-4e78-b198-49263e2a4f37",
   "metadata": {},
   "outputs": [
    {
     "name": "stdout",
     "output_type": "stream",
     "text": [
      "It is a palindrome\n"
     ]
    }
   ],
   "source": [
    "if(string_3 == string_2):   # if condition to check whether the string taken from the user is palindrome or not\n",
    "    \n",
    "    print(\"It is a palindrome\")  # if condition is TRUE then It is a palindrome is printed\n",
    "    \n",
    "    # if this  condition (string_3 == string_2) fails then else part will executed\n",
    "    \n",
    "else:   \n",
    "    \n",
    "    print(\"it is not a palindrome\") # It is not a palindrome is printed"
   ]
  },
  {
   "cell_type": "markdown",
   "id": "798ca3eb-d37c-4510-8b28-25096e35ae66",
   "metadata": {},
   "source": [
    "Q 5)"
   ]
  },
  {
   "cell_type": "code",
   "execution_count": 27,
   "id": "c43e4c5e-fb9a-4bb9-b131-353301381246",
   "metadata": {},
   "outputs": [
    {
     "name": "stdin",
     "output_type": "stream",
     "text": [
      "  PW SKILLS DATA SCIENCE\n"
     ]
    }
   ],
   "source": [
    "string_0 = str(input())  # Taking the string as input from users and stored in the varible string_0"
   ]
  },
  {
   "cell_type": "code",
   "execution_count": 28,
   "id": "2e960755-a48c-404a-8b52-cdfb2ee02fe3",
   "metadata": {},
   "outputs": [
    {
     "name": "stdout",
     "output_type": "stream",
     "text": [
      "PWSKILLSDATASCIENCE\n"
     ]
    }
   ],
   "source": [
    "print(string_0.replace(\" \",\"\")) # we are using replace inbuilt function to removes all the spaces from it."
   ]
  }
 ],
 "metadata": {
  "kernelspec": {
   "display_name": "Python 3 (ipykernel)",
   "language": "python",
   "name": "python3"
  },
  "language_info": {
   "codemirror_mode": {
    "name": "ipython",
    "version": 3
   },
   "file_extension": ".py",
   "mimetype": "text/x-python",
   "name": "python",
   "nbconvert_exporter": "python",
   "pygments_lexer": "ipython3",
   "version": "3.10.8"
  }
 },
 "nbformat": 4,
 "nbformat_minor": 5
}
